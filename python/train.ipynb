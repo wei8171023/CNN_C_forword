{
 "cells": [
  {
   "cell_type": "code",
   "execution_count": 1,
   "metadata": {},
   "outputs": [
    {
     "name": "stderr",
     "output_type": "stream",
     "text": [
      "Using TensorFlow backend.\n",
      "/usr/local/python3/lib/python3.7/site-packages/tensorflow/python/framework/dtypes.py:526: FutureWarning: Passing (type, 1) or '1type' as a synonym of type is deprecated; in a future version of numpy, it will be understood as (type, (1,)) / '(1,)type'.\n",
      "  _np_qint8 = np.dtype([(\"qint8\", np.int8, 1)])\n",
      "/usr/local/python3/lib/python3.7/site-packages/tensorflow/python/framework/dtypes.py:527: FutureWarning: Passing (type, 1) or '1type' as a synonym of type is deprecated; in a future version of numpy, it will be understood as (type, (1,)) / '(1,)type'.\n",
      "  _np_quint8 = np.dtype([(\"quint8\", np.uint8, 1)])\n",
      "/usr/local/python3/lib/python3.7/site-packages/tensorflow/python/framework/dtypes.py:528: FutureWarning: Passing (type, 1) or '1type' as a synonym of type is deprecated; in a future version of numpy, it will be understood as (type, (1,)) / '(1,)type'.\n",
      "  _np_qint16 = np.dtype([(\"qint16\", np.int16, 1)])\n",
      "/usr/local/python3/lib/python3.7/site-packages/tensorflow/python/framework/dtypes.py:529: FutureWarning: Passing (type, 1) or '1type' as a synonym of type is deprecated; in a future version of numpy, it will be understood as (type, (1,)) / '(1,)type'.\n",
      "  _np_quint16 = np.dtype([(\"quint16\", np.uint16, 1)])\n",
      "/usr/local/python3/lib/python3.7/site-packages/tensorflow/python/framework/dtypes.py:530: FutureWarning: Passing (type, 1) or '1type' as a synonym of type is deprecated; in a future version of numpy, it will be understood as (type, (1,)) / '(1,)type'.\n",
      "  _np_qint32 = np.dtype([(\"qint32\", np.int32, 1)])\n",
      "/usr/local/python3/lib/python3.7/site-packages/tensorflow/python/framework/dtypes.py:535: FutureWarning: Passing (type, 1) or '1type' as a synonym of type is deprecated; in a future version of numpy, it will be understood as (type, (1,)) / '(1,)type'.\n",
      "  np_resource = np.dtype([(\"resource\", np.ubyte, 1)])\n"
     ]
    },
    {
     "name": "stdout",
     "output_type": "stream",
     "text": [
      "channels_last\n"
     ]
    }
   ],
   "source": [
    "# -*- coding: utf-8 -*-\n",
    "from keras.datasets import mnist                #从keras.datasets中导入mnist.py文件\n",
    "from keras.utils import to_categorical          #从keras.utils库中导入to_categorical方法\n",
    "#to_categorical就是将类别向量转换为二进制（只有0和1）的矩阵类型表示。其表现为将原有的类别向量转换为独热编码的形式\n",
    "import numpy as np                              #导入numpy\n",
    "from keras import utils as np_utils\n",
    "#from numpy.utils import to_categorical\n",
    "\n",
    "  # force a channel ordering\n",
    "from keras import backend\n",
    "  # force channels-first ordering\n",
    "#backend.set_image_data_format('channels_first')\n",
    "print(backend.image_data_format())"
   ]
  },
  {
   "cell_type": "code",
   "execution_count": 2,
   "metadata": {},
   "outputs": [
    {
     "name": "stdout",
     "output_type": "stream",
     "text": [
      "(60000, 28, 28) (60000,)\n",
      "(10000, 28, 28) (10000,)\n"
     ]
    }
   ],
   "source": [
    "#导入mnist数据集====================================================================================================\n",
    "#train_X, train_y = mnist.load_data()[0]\n",
    "path='./mnist.npz'                              #利用numpy读入mnist数据集\n",
    "f = np.load(path)\n",
    "train_X, train_y = f['x_train'], f['y_train']   #获取训练集的特征矩阵赋值给变量train_X，获取训练集的标签赋值给变量train_y；\n",
    "test_X, test_y = f['x_test'], f['y_test']       #获取测试集的数据的特征赋值test_X，标签赋值给变量test_y；\n",
    "f.close()\n",
    "print(train_X.shape, train_y.shape)            #输出训练集的维度 (60000, 28, 28) (60000,)\n",
    "print(test_X.shape, test_y.shape) "
   ]
  },
  {
   "cell_type": "code",
   "execution_count": 3,
   "metadata": {},
   "outputs": [
    {
     "name": "stdout",
     "output_type": "stream",
     "text": [
      "train_X的维度： (60000, 28, 28, 1)\n",
      "train_X的数据类型： float32\n",
      "train_X的维度： (60000, 10)\n"
     ]
    }
   ],
   "source": [
    "#训练数据预处理=================================================================================================================\n",
    "train_X = train_X.reshape( -1,28, 28,1)       #reshape成网络需要的数据格式\n",
    "print(\"train_X的维度：\",train_X.shape)\n",
    "train_X = train_X.astype('float32')            #训练数据的数据类型设为float32\n",
    "print(\"train_X的数据类型：\",train_X.dtype)\n",
    "train_X /= 255                                 #归一化，标准化\n",
    "train_y = to_categorical(train_y, 10)   \n",
    "print(\"train_X的维度：\",train_y.shape)\n",
    "\n",
    "#未转化第一个数是 5\n",
    "#print(train_y[:1])\n",
    "train_yOneHot = np_utils.to_categorical(train_y)\n",
    "#转化  One-Hot Encoding 都是以0 1 表示，5 在第六个位置\n",
    "#print(train_yOneHot[:1])"
   ]
  },
  {
   "cell_type": "code",
   "execution_count": 4,
   "metadata": {},
   "outputs": [
    {
     "name": "stdout",
     "output_type": "stream",
     "text": [
      "WARNING:tensorflow:From /usr/local/python3/lib/python3.7/site-packages/tensorflow/python/ops/resource_variable_ops.py:435: colocate_with (from tensorflow.python.framework.ops) is deprecated and will be removed in a future version.\n",
      "Instructions for updating:\n",
      "Colocations handled automatically by placer.\n",
      "Model: \"sequential_1\"\n",
      "_________________________________________________________________\n",
      "Layer (type)                 Output Shape              Param #   \n",
      "=================================================================\n",
      "conv2d_1 (Conv2D)            (None, 28, 28, 16)        160       \n",
      "_________________________________________________________________\n",
      "max_pooling2d_1 (MaxPooling2 (None, 14, 14, 16)        0         \n",
      "_________________________________________________________________\n",
      "conv2d_2 (Conv2D)            (None, 14, 14, 32)        4640      \n",
      "_________________________________________________________________\n",
      "max_pooling2d_2 (MaxPooling2 (None, 7, 7, 32)          0         \n",
      "_________________________________________________________________\n",
      "flatten_1 (Flatten)          (None, 1568)              0         \n",
      "_________________________________________________________________\n",
      "dropout_1 (Dropout)          (None, 1568)              0         \n",
      "_________________________________________________________________\n",
      "dense_1 (Dense)              (None, 128)               200832    \n",
      "_________________________________________________________________\n",
      "dropout_2 (Dropout)          (None, 128)               0         \n",
      "_________________________________________________________________\n",
      "dense_2 (Dense)              (None, 10)                1290      \n",
      "=================================================================\n",
      "Total params: 206,922\n",
      "Trainable params: 206,922\n",
      "Non-trainable params: 0\n",
      "_________________________________________________________________\n",
      "模型梗概： None\n"
     ]
    },
    {
     "data": {
      "text/plain": [
       "<keras.layers.convolutional.Conv2D at 0x7fb4f44e6940>"
      ]
     },
     "execution_count": 4,
     "metadata": {},
     "output_type": "execute_result"
    }
   ],
   "source": [
    "#网络构建========================================================================================================\n",
    "from keras.models import Sequential                                     #导入keras中的模型方法\n",
    "from keras.layers import Conv2D, MaxPool2D, Flatten, Dropout, Dense     #导入keras中的层函数：卷积、池化、铺平、dropout、全连接\n",
    "from keras.losses import categorical_crossentropy                       #导入keras中损失函数\n",
    "from keras.optimizers import Adadelta                                   #导入keras中的优化器\n",
    "#模型训练并保存========================================================================================================\n",
    "model = Sequential()                                                    #用keras.model库的Sequential方法实例化模型对象；\n",
    "model.add(Conv2D(16, (3,3), activation='relu', padding='same',input_shape=[28, 28,1]))     #c1\n",
    "model.add(MaxPool2D(pool_size=(2,2)))                                                      #s2\n",
    "model.add(Conv2D(32, (3,3), activation='relu',padding='same'))                             #c3\n",
    "model.add(MaxPool2D(pool_size=(2,2)))                                                      #s4\n",
    "model.add(Flatten())                                                                       #Flatten5\n",
    "model.add(Dropout(0.5))                                                                    #dropout6\n",
    "model.add(Dense(128, activation='relu'))                                                   #fc7\n",
    "model.add(Dropout(0.5))                                                                    #dropout8\n",
    "model.add(Dense(10, activation='softmax'))                                                 #fc9\n",
    "print(\"模型梗概：\",model.summary())   #查看模型摘要\n",
    "#model,save('my5ceng.h5')\n",
    "model.get_layer(index=0)      #依据层名或下标获得层对象"
   ]
  },
  {
   "cell_type": "code",
   "execution_count": 5,
   "metadata": {},
   "outputs": [
    {
     "name": "stdout",
     "output_type": "stream",
     "text": [
      "WARNING:tensorflow:From /usr/local/python3/lib/python3.7/site-packages/tensorflow/python/ops/math_ops.py:3066: to_int32 (from tensorflow.python.ops.math_ops) is deprecated and will be removed in a future version.\n",
      "Instructions for updating:\n",
      "Use tf.cast instead.\n",
      "Train on 48000 samples, validate on 12000 samples\n",
      "Epoch 1/10\n",
      "48000/48000 [==============================] - 18s 378us/step - loss: 0.4127 - accuracy: 0.8670 - val_loss: 0.0907 - val_accuracy: 0.9742\n",
      "Epoch 2/10\n",
      "48000/48000 [==============================] - 18s 374us/step - loss: 0.1575 - accuracy: 0.9514 - val_loss: 0.0669 - val_accuracy: 0.9797\n",
      "Epoch 3/10\n",
      "48000/48000 [==============================] - 18s 374us/step - loss: 0.1276 - accuracy: 0.9612 - val_loss: 0.0577 - val_accuracy: 0.9827\n",
      "Epoch 4/10\n",
      "48000/48000 [==============================] - 18s 376us/step - loss: 0.1111 - accuracy: 0.9665 - val_loss: 0.0497 - val_accuracy: 0.9847\n",
      "Epoch 5/10\n",
      "48000/48000 [==============================] - 18s 373us/step - loss: 0.1017 - accuracy: 0.9689 - val_loss: 0.0475 - val_accuracy: 0.9852\n",
      "Epoch 6/10\n",
      "48000/48000 [==============================] - 18s 375us/step - loss: 0.0909 - accuracy: 0.9731 - val_loss: 0.0447 - val_accuracy: 0.9857\n",
      "Epoch 7/10\n",
      "48000/48000 [==============================] - 18s 376us/step - loss: 0.0873 - accuracy: 0.9738 - val_loss: 0.0406 - val_accuracy: 0.9874\n",
      "Epoch 8/10\n",
      "48000/48000 [==============================] - 18s 373us/step - loss: 0.0821 - accuracy: 0.9751 - val_loss: 0.0398 - val_accuracy: 0.9881\n",
      "Epoch 9/10\n",
      "48000/48000 [==============================] - 19s 387us/step - loss: 0.0784 - accuracy: 0.9762 - val_loss: 0.0386 - val_accuracy: 0.9879\n"
     ]
    }
   ],
   "source": [
    "#开始训练模型================================================================================================\n",
    "#x 是训练数据集， y 是训练数据集的标签， validation_split 是把训练数据集分为 8 份训练数据集 2 份验证集\n",
    "#epochs 是迭代次数 20， batch_size 是批量 256， verbose 为 2 显示训练过程\n",
    "model.compile(loss=categorical_crossentropy,    #指定模型的损失函数、优化器、评判指标（AP）\n",
    "             optimizer=Adadelta(),\n",
    "             metrics=['accuracy'])\n",
    "\n",
    "batch_size = 100                         #每次模型训练使用100个样本数量\n",
    "epochs = 10                              #所有样本遍历10次\n",
    "from numpy import *\n",
    "from keras.callbacks import EarlyStopping   #早挺\n",
    "callbacks=[EarlyStopping(monitor='val_accuracy', min_delta=0,\n",
    "                              patience=0, verbose=0, mode='auto',\n",
    "                              baseline=None, restore_best_weights=False)]\n",
    "train_history=model.fit(train_X, train_y,                  #训练特征矩阵、训练标签、batch_size大小、epochs大小、验证集比例\n",
    "         batch_size=batch_size,validation_split = 0.2,\n",
    "         epochs=epochs,callbacks=callbacks)\n",
    "#keras的模型一般保存为后缀名为h5的文件，比如final_model.h5。同样是h5文件用save()和save_weight()保存效果是不一样的。\n",
    "#\n",
    "model.save(\"model1.h5\") "
   ]
  },
  {
   "cell_type": "code",
   "execution_count": 6,
   "metadata": {},
   "outputs": [
    {
     "name": "stdout",
     "output_type": "stream",
     "text": [
      "10000/10000 [==============================] - 1s 134us/step\n",
      "loss:0.0330 accuracy:0.9891\n"
     ]
    }
   ],
   "source": [
    "#模型测试========================================================================================================\n",
    "#测试数据集预处理\n",
    "test_X = test_X.reshape(-1, 28, 28, 1)    #将原始的特征矩阵做数据处理形成模型需要的数据\n",
    "test_X = test_X.astype('float32')\n",
    "test_X /= 255\n",
    "test_y = to_categorical(test_y, 10)       #使用keras中的to_categorical方法对数字的标签分类做One-Hot编码\n",
    "loss, accuracy = model.evaluate(test_X, test_y, verbose=1)    #使用测试集的数据做模型评估，打印损失函数值和准确率\n",
    "print('loss:%.4f accuracy:%.4f' %(loss, accuracy))  "
   ]
  },
  {
   "cell_type": "code",
   "execution_count": 7,
   "metadata": {},
   "outputs": [
    {
     "data": {
      "image/png": "[encoded data removed]",
      "text/plain": [
       "<Figure size 432x288 with 1 Axes>"
      ]
     },
     "metadata": {
      "needs_background": "light"
     },
     "output_type": "display_data"
    }
   ],
   "source": [
    "#画出训练损失和正确率曲线图=============================================================================================\n",
    "import matplotlib.pyplot as plt\n",
    "def show_train_history(train_history, train, validation):\n",
    "    plt.plot(train_history.history[train])\n",
    "    plt.plot(train_history.history[validation])\n",
    "    plt.title('Train History')\n",
    "    plt.ylabel(train)\n",
    "    plt.xlabel('Epoch')\n",
    "    plt.legend(['train', 'validation'], loc = 'upper left')\n",
    "    plt.show()\n",
    "show_train_history(train_history, 'loss', 'val_loss')"
   ]
  },
  {
   "cell_type": "code",
   "execution_count": 8,
   "metadata": {},
   "outputs": [
    {
     "data": {
      "image/png": "[encoded data removed]",
      "text/plain": [
       "<Figure size 432x288 with 1 Axes>"
      ]
     },
     "metadata": {
      "needs_background": "light"
     },
     "output_type": "display_data"
    }
   ],
   "source": [
    "show_train_history(train_history, 'accuracy', 'val_accuracy')"
   ]
  },
  {
   "cell_type": "code",
   "execution_count": null,
   "metadata": {},
   "outputs": [],
   "source": []
  }
 ],
 "metadata": {
  "kernelspec": {
   "display_name": "Python 3",
   "language": "python",
   "name": "python3"
  },
  "language_info": {
   "codemirror_mode": {
    "name": "ipython",
    "version": 3
   },
   "file_extension": ".py",
   "mimetype": "text/x-python",
   "name": "python",
   "nbconvert_exporter": "python",
   "pygments_lexer": "ipython3",
   "version": "3.7.3"
  }
 },
 "nbformat": 4,
 "nbformat_minor": 4
}
